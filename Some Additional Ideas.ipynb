{
 "cells": [
  {
   "cell_type": "markdown",
   "id": "1082458c-e2e7-4646-b1fe-2c4760511b99",
   "metadata": {},
   "source": [
    "# Ideas for students\n",
    "\n",
    "1. There is a daily record of deaths and weather in some of the old health reports; for example, here in the [1872 report (at the back)](https://babel.hathitrust.org/cgi/pt?id=nnc2.ark:/13960/t8df7fg0h&seq=382&view=1up). It might be an interesting time series project to fit a model to this and see where that goes.\n",
    "2. There is also an interesting meningitis map in the same source.\n",
    "3. To reiterate - there are a lot of tables and data that show mortality by day, with pretty intense weather observations, with reference to different diseases.\n",
    "4. There are ward-level disease deaths from Zymotic disease by quarter."
   ]
  },
  {
   "cell_type": "markdown",
   "id": "7a88a250-695a-42b8-b037-b9cde8aa1a4c",
   "metadata": {},
   "source": [
    "# Changes from 1870 to 1880\n",
    "\n",
    "There is more detail from Wards, but there is still data there."
   ]
  },
  {
   "cell_type": "code",
   "execution_count": null,
   "id": "df9e3cc6-0570-4ca3-83fe-441de03dbd64",
   "metadata": {},
   "outputs": [],
   "source": []
  }
 ],
 "metadata": {
  "kernelspec": {
   "display_name": "Python 3 (ipykernel)",
   "language": "python",
   "name": "python3"
  },
  "language_info": {
   "codemirror_mode": {
    "name": "ipython",
    "version": 3
   },
   "file_extension": ".py",
   "mimetype": "text/x-python",
   "name": "python",
   "nbconvert_exporter": "python",
   "pygments_lexer": "ipython3",
   "version": "3.11.6"
  }
 },
 "nbformat": 4,
 "nbformat_minor": 5
}
