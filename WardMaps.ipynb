{
 "cells": [
  {
   "cell_type": "markdown",
   "metadata": {},
   "source": [
    "# Mapping and merging\n",
    "\n",
    "In this notebook, we are going to work a bit on making a shapefile and blending it with disease data. We used old maps to create a shapefile of the old wards of New York City, which can be found in the project's Data file. \n",
    "\n",
    "Anyways, let's start it up and see how it goes:"
   ]
  },
  {
   "cell_type": "code",
   "execution_count": 1,
   "metadata": {
    "collapsed": false
   },
   "outputs": [],
   "source": [
    "import geopandas as gpd\n",
    "import mplleaflet\n",
    "import pandas as pd\n",
    "import os\n",
    "\n",
    "from geopandas import GeoDataFrame\n",
    "from IPython.display import HTML\n",
    "\n",
    "%matplotlib inline"
   ]
  },
  {
   "cell_type": "code",
   "execution_count": 2,
   "metadata": {
    "collapsed": false
   },
   "outputs": [],
   "source": [
    "workdir = os.getcwd()\n",
    "try:\n",
    "    os.chdir(workdir + '//Data')\n",
    "except:\n",
    "    print(\"already there...\")"
   ]
  },
  {
   "cell_type": "code",
   "execution_count": 3,
   "metadata": {
    "collapsed": false
   },
   "outputs": [],
   "source": [
    "Wards = gpd.read_file('NYCWards1900.shp')"
   ]
  },
  {
   "cell_type": "markdown",
   "metadata": {},
   "source": [
    "Just a check to make sure everything is working..."
   ]
  },
  {
   "cell_type": "code",
   "execution_count": 5,
   "metadata": {
    "collapsed": false
   },
   "outputs": [],
   "source": [
    "Wards.plot()\n",
    "mplleaflet.show()"
   ]
  },
  {
   "cell_type": "code",
   "execution_count": 7,
   "metadata": {
    "collapsed": false
   },
   "outputs": [
    {
     "data": {
      "text/html": [
       "<div>\n",
       "<table border=\"1\" class=\"dataframe\">\n",
       "  <thead>\n",
       "    <tr style=\"text-align: right;\">\n",
       "      <th></th>\n",
       "      <th>cartodb_id</th>\n",
       "      <th>descriptio</th>\n",
       "      <th>geometry</th>\n",
       "      <th>name</th>\n",
       "    </tr>\n",
       "  </thead>\n",
       "  <tbody>\n",
       "    <tr>\n",
       "      <th>0</th>\n",
       "      <td>60</td>\n",
       "      <td>Tenth Ward, Manhattan</td>\n",
       "      <td>POLYGON ((-73.99347782 40.72163218, -73.986697...</td>\n",
       "      <td>MN Ward 10</td>\n",
       "    </tr>\n",
       "    <tr>\n",
       "      <th>1</th>\n",
       "      <td>3</td>\n",
       "      <td>First Ward, Brooklyn</td>\n",
       "      <td>POLYGON ((-73.99060249328613 40.68911547188819...</td>\n",
       "      <td>BK Ward 1</td>\n",
       "    </tr>\n",
       "    <tr>\n",
       "      <th>2</th>\n",
       "      <td>6</td>\n",
       "      <td>Fifth Ward, Brooklyn</td>\n",
       "      <td>POLYGON ((-73.9851737 40.6949075, -73.98435831...</td>\n",
       "      <td>BK Ward 5</td>\n",
       "    </tr>\n",
       "    <tr>\n",
       "      <th>3</th>\n",
       "      <td>22</td>\n",
       "      <td>Twenty-First Ward, Brooklyn</td>\n",
       "      <td>POLYGON ((-73.95704268999999 40.69908851, -73....</td>\n",
       "      <td>BK Ward 21</td>\n",
       "    </tr>\n",
       "    <tr>\n",
       "      <th>4</th>\n",
       "      <td>9</td>\n",
       "      <td>Tenth Ward, Brooklyn</td>\n",
       "      <td>POLYGON ((-73.99150372 40.67500749, -73.996481...</td>\n",
       "      <td>BK Ward 10</td>\n",
       "    </tr>\n",
       "  </tbody>\n",
       "</table>\n",
       "</div>"
      ],
      "text/plain": [
       "   cartodb_id                   descriptio  \\\n",
       "0          60        Tenth Ward, Manhattan   \n",
       "1           3         First Ward, Brooklyn   \n",
       "2           6         Fifth Ward, Brooklyn   \n",
       "3          22  Twenty-First Ward, Brooklyn   \n",
       "4           9         Tenth Ward, Brooklyn   \n",
       "\n",
       "                                            geometry        name  \n",
       "0  POLYGON ((-73.99347782 40.72163218, -73.986697...  MN Ward 10  \n",
       "1  POLYGON ((-73.99060249328613 40.68911547188819...   BK Ward 1  \n",
       "2  POLYGON ((-73.9851737 40.6949075, -73.98435831...   BK Ward 5  \n",
       "3  POLYGON ((-73.95704268999999 40.69908851, -73....  BK Ward 21  \n",
       "4  POLYGON ((-73.99150372 40.67500749, -73.996481...  BK Ward 10  "
      ]
     },
     "execution_count": 7,
     "metadata": {},
     "output_type": "execute_result"
    }
   ],
   "source": [
    "Wards.head()"
   ]
  },
  {
   "cell_type": "markdown",
   "metadata": {},
   "source": [
    "We see that the best way of identifying or merging the data is seemingly by using the \"name\" code inthe Wards data. So, we will have to munge the data to get that to work correctly. Here goes - after first reading in the data:"
   ]
  },
  {
   "cell_type": "code",
   "execution_count": 8,
   "metadata": {
    "collapsed": true
   },
   "outputs": [],
   "source": [
    "Data = pd.read_stata('190313mod.dta')"
   ]
  },
  {
   "cell_type": "code",
   "execution_count": 9,
   "metadata": {
    "collapsed": false
   },
   "outputs": [
    {
     "data": {
      "text/plain": [
       "{'BR', 'BX', 'MA', 'QU', 'RI'}"
      ]
     },
     "execution_count": 9,
     "metadata": {},
     "output_type": "execute_result"
    }
   ],
   "source": [
    "set(Data['borough'])"
   ]
  },
  {
   "cell_type": "code",
   "execution_count": 10,
   "metadata": {
    "collapsed": false
   },
   "outputs": [],
   "source": [
    "splitnames =  [name.split() for name in Wards['name']]"
   ]
  },
  {
   "cell_type": "code",
   "execution_count": 11,
   "metadata": {
    "collapsed": false
   },
   "outputs": [],
   "source": [
    "Wards['borough'] = [split[0] for split in splitnames]\n",
    "Wards['number']  = [split[2] for split in splitnames]"
   ]
  },
  {
   "cell_type": "markdown",
   "metadata": {},
   "source": [
    "Now that the boroughs have been split out of the tag that we gave them, we can change the tags so that they correspond with those in our data."
   ]
  },
  {
   "cell_type": "code",
   "execution_count": 12,
   "metadata": {
    "collapsed": false
   },
   "outputs": [
    {
     "name": "stderr",
     "output_type": "stream",
     "text": [
      "C:\\Users\\mjbaker\\AppData\\Local\\Continuum\\Anaconda3\\lib\\site-packages\\pandas\\core\\indexing.py:141: SettingWithCopyWarning: \n",
      "A value is trying to be set on a copy of a slice from a DataFrame\n",
      "\n",
      "See the caveats in the documentation: http://pandas.pydata.org/pandas-docs/stable/indexing.html#indexing-view-versus-copy\n",
      "  self._setitem_with_indexer(indexer, value)\n"
     ]
    }
   ],
   "source": [
    "Wards['borough'].loc[Wards['borough'] == 'MN'] = 'MA'\n",
    "Wards['borough'].loc[Wards['borough'] == 'QN'] = 'QU'\n",
    "Wards['borough'].loc[Wards['borough'] == 'BK'] = 'BR'"
   ]
  },
  {
   "cell_type": "code",
   "execution_count": 14,
   "metadata": {
    "collapsed": true
   },
   "outputs": [],
   "source": [
    "Slice = Data[Data['wards'].str.contains(\"Twelfth\")]\n",
    "Slice = Slice[Slice['year'] > 1911]\n",
    "Slice = Slice[Slice['borough'] == 'MA']"
   ]
  },
  {
   "cell_type": "markdown",
   "metadata": {},
   "source": [
    "There must be a better way to do this, but we will make a new row manually..."
   ]
  },
  {
   "cell_type": "code",
   "execution_count": 15,
   "metadata": {
    "collapsed": false
   },
   "outputs": [
    {
     "data": {
      "text/plain": [
       "<pandas.core.indexing._LocIndexer at 0xab83eb8>"
      ]
     },
     "execution_count": 15,
     "metadata": {},
     "output_type": "execute_result"
    }
   ],
   "source": [
    "Slice['wards'].loc[Slice['wards'] == 'TwelfthN'] = 'Twelfth'\n",
    "Slice['populationbycensusof1900'].loc[Slice['wards'] == 'Twelfth'] = (205130+332692+103532+165294)\n",
    "Slice['numberofpersonstotheacre'].loc[Slice['wards'] == 'Twelfth'] = 86.599998"
   ]
  },
  {
   "cell_type": "code",
   "execution_count": 16,
   "metadata": {
    "collapsed": false
   },
   "outputs": [
    {
     "name": "stderr",
     "output_type": "stream",
     "text": [
      "C:\\Users\\mjbaker\\AppData\\Local\\Continuum\\Anaconda3\\lib\\site-packages\\pandas\\core\\indexing.py:141: SettingWithCopyWarning: \n",
      "A value is trying to be set on a copy of a slice from a DataFrame\n",
      "\n",
      "See the caveats in the documentation: http://pandas.pydata.org/pandas-docs/stable/indexing.html#indexing-view-versus-copy\n",
      "  self._setitem_with_indexer(indexer, value)\n"
     ]
    }
   ],
   "source": [
    "Slice['typhoidfever'].loc[(Slice['wards'] == 'Twelfth') & (Slice['year'] == 1912)] = (13+23+18+6)\n",
    "Slice['typhoidfever'].loc[(Slice['wards'] == 'Twelfth') & (Slice['year'] == 1913)] = (8+17+17+12)\n",
    "Slice['malarialfever'].loc[(Slice['wards'] == 'Twelfth') & (Slice['year'] == 1912)] = 0\n",
    "Slice['malarialfever'].loc[(Slice['wards'] == 'Twelfth') & (Slice['year'] == 1913)] = 2\n",
    "Slice['measles'].loc[(Slice['wards'] == 'Twelfth') & (Slice['year'] == 1912)] = 54+23+9+6\n",
    "Slice['measles'].loc[(Slice['wards'] == 'Twelfth') & (Slice['year'] == 1913)] = 55+15+4+4\n",
    "Slice['scarletfever'].loc[(Slice['wards'] == 'Twelfth') & (Slice['year'] == 1912)] = 30+18+6+10\n",
    "Slice['scarletfever'].loc[(Slice['wards'] == 'Twelfth') & (Slice['year'] == 1913)] = 11+32+5+4\n",
    "Slice['whoopingcough'].loc[(Slice['wards'] == 'Twelfth') & (Slice['year'] == 1912)] = 22+15+6+4\n",
    "Slice['whoopingcough'].loc[(Slice['wards'] == 'Twelfth') & (Slice['year'] == 1913)] = 36+23+6+6\n",
    "Slice['diphteria'].loc[(Slice['wards'] == 'Twelfth') & (Slice['year'] == 1912)] = 61+33+21+16\n",
    "Slice['diphteria'].loc[(Slice['wards'] == 'Twelfth') & (Slice['year'] == 1913)] = 92+53+29+23\n",
    "Slice['pulmonarytuberculosisphithisis'].loc[(Slice['wards'] == 'Twelfth') & (Slice['year'] == 1912)] = 316+387+161+150\n",
    "Slice['pulmonarytuberculosisphithisis'].loc[(Slice['wards'] == 'Twelfth') & (Slice['year'] == 1913)] = 334+502+234+153\n",
    "Slice['cerebrospinalmeningitis'].loc[(Slice['wards'] == 'Twelfth') & (Slice['year'] == 1912)] = 16+4+4+5\n",
    "Slice['cerebrospinalmeningitis'].loc[(Slice['wards'] == 'Twelfth') & (Slice['year'] == 1913)] = 9+12+3+1\n",
    "Slice['pneumonia'].loc[(Slice['wards'] == 'Twelfth') & (Slice['year'] == 1912)] = 274+281+153+116\n",
    "Slice['pneumonia'].loc[(Slice['wards'] == 'Twelfth') & (Slice['year'] == 1913)] = 222+315+166+113\n",
    "Slice['bronchopneumonia'].loc[(Slice['wards'] == 'Twelfth') & (Slice['year'] == 1912)] = 333+191+79+54\n",
    "Slice['bronchopneumonia'].loc[(Slice['wards'] == 'Twelfth') & (Slice['year'] == 1913)] = 359+209+87+45\n",
    "Slice['diarrhealdiseases'].loc[(Slice['wards'] == 'Twelfth') & (Slice['year'] == 1912)] = 293+138+69+50\n",
    "Slice['diarrhealdiseases'].loc[(Slice['wards'] == 'Twelfth') & (Slice['year'] == 1913)] = 258+147+62+44\n",
    "Slice['allcauses'].loc[(Slice['wards'] == 'Twelfth') & (Slice['year'] == 1912)] = 3421+3728+2307+1637\n",
    "Slice['allcauses'].loc[(Slice['wards'] == 'Twelfth') & (Slice['year'] == 1913)] = 3100+4225+2468+1571\n",
    "Slice['deathsofchildrenunder5years'].loc[(Slice['wards'] == 'Twelfth') & (Slice['year'] == 1912)] = 1454+810+347+285\n",
    "Slice['deathsofchildrenunder5years'].loc[(Slice['wards'] == 'Twelfth') & (Slice['year'] == 1913)] = 1356+940+367+275"
   ]
  },
  {
   "cell_type": "code",
   "execution_count": 17,
   "metadata": {
    "collapsed": false
   },
   "outputs": [],
   "source": [
    "Slice = Slice.loc[Slice['wards'] == 'Twelfth']"
   ]
  },
  {
   "cell_type": "code",
   "execution_count": 22,
   "metadata": {
    "collapsed": false
   },
   "outputs": [],
   "source": [
    "Data = Data.loc[(Data['wards'] != 'TwelfthN')]\n",
    "Data = Data.loc[(Data['wards'] != 'TwelfthC')]\n",
    "Data = Data.loc[(Data['wards'] != 'TwelfthE')]\n",
    "Data = Data.loc[(Data['wards'] != 'TwelfthW')]\n",
    "Data = Data.loc[(Data['wards'] != 'Total')]"
   ]
  },
  {
   "cell_type": "code",
   "execution_count": 19,
   "metadata": {
    "collapsed": false
   },
   "outputs": [],
   "source": [
    "Data = Data.append(Slice)"
   ]
  },
  {
   "cell_type": "markdown",
   "metadata": {},
   "source": [
    "# At this point...\n",
    "\n",
    "We now have a clean bunch of data, and we only have to clean up the numbering of the wards. "
   ]
  },
  {
   "cell_type": "code",
   "execution_count": 27,
   "metadata": {
    "collapsed": false
   },
   "outputs": [],
   "source": [
    "translator = {'Eighteenth':18, 'Eighth':8, 'Eleventh':11, 'Fifteenth':15, 'Fifth':5, 'First':1, 'Fourteenth':14,\n",
    " 'Fourth':4, 'Nineteenth':19, 'Ninth':9, 'Second':2, 'Seventeenth':17, 'Seventh':7, 'Sixteenth':16, 'Sixth':6, 'Tenth':10,\n",
    " 'Third':3, 'Thirteenth':13, 'Thirtieth':30, 'Thirty-first':31, 'Thirty-second':32, 'Twelfth':12, 'Twentieth':20,\n",
    "              'Twenty-Third':23,\n",
    " 'Twenty-eigth':28, 'Twenty-fifth':25, 'Twenty-first':21, 'Twenty-fourth':24, 'Twenty-ninth':29, 'Twenty-second':22,\n",
    " 'Twenty-seventh':27, 'Twenty-sixth':26, 'Twenty-third':23}"
   ]
  },
  {
   "cell_type": "code",
   "execution_count": 28,
   "metadata": {
    "collapsed": true
   },
   "outputs": [],
   "source": [
    "Data['wardno']= Data['wards'].map(translator)"
   ]
  },
  {
   "cell_type": "code",
   "execution_count": null,
   "metadata": {
    "collapsed": true
   },
   "outputs": [],
   "source": []
  }
 ],
 "metadata": {
  "kernelspec": {
   "display_name": "Python 3",
   "language": "python",
   "name": "python3"
  },
  "language_info": {
   "codemirror_mode": {
    "name": "ipython",
    "version": 3
   },
   "file_extension": ".py",
   "mimetype": "text/x-python",
   "name": "python",
   "nbconvert_exporter": "python",
   "pygments_lexer": "ipython3",
   "version": "3.4.5"
  }
 },
 "nbformat": 4,
 "nbformat_minor": 2
}
