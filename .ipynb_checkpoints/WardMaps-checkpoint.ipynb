{
 "cells": [
  {
   "cell_type": "markdown",
   "metadata": {},
   "source": [
    "# Mapping and merging\n",
    "\n",
    "In this notebook, we are going to work a bit on making a shapefile and blending it with disease data. We used old maps to create a shapefile of the old wards of New York City, which can be found in the project's Data file. \n",
    "\n",
    "Anyways, let's start it up and see how it goes:"
   ]
  },
  {
   "cell_type": "code",
   "execution_count": 180,
   "metadata": {},
   "outputs": [],
   "source": [
    "import geopandas as gpd\n",
    "import mplleaflet\n",
    "import numpy as np\n",
    "import pandas as pd\n",
    "import os\n",
    "\n",
    "import matplotlib.pyplot as plt\n",
    "\n",
    "from geopandas import GeoDataFrame\n",
    "from IPython.display import HTML\n",
    "from scipy.stats import pearsonr\n",
    "\n",
    "%matplotlib inline"
   ]
  },
  {
   "cell_type": "code",
   "execution_count": 22,
   "metadata": {},
   "outputs": [
    {
     "name": "stdout",
     "output_type": "stream",
     "text": [
      "already there...\n"
     ]
    }
   ],
   "source": [
    "workdir = os.getcwd()\n",
    "try:\n",
    "    os.chdir(workdir + '//Data')\n",
    "except:\n",
    "    print(\"already there...\")"
   ]
  },
  {
   "cell_type": "code",
   "execution_count": 23,
   "metadata": {},
   "outputs": [],
   "source": [
    "Wards = gpd.read_file('NYCWards1900.shp')"
   ]
  },
  {
   "cell_type": "markdown",
   "metadata": {},
   "source": [
    "Just a check to make sure everything is working..."
   ]
  },
  {
   "cell_type": "code",
   "execution_count": 24,
   "metadata": {},
   "outputs": [
    {
     "data": {
      "text/plain": [
       "<matplotlib.axes._subplots.AxesSubplot at 0x9c1de10>"
      ]
     },
     "execution_count": 24,
     "metadata": {},
     "output_type": "execute_result"
    },
    {
     "data": {
      "image/png": "[encoded data removed]",
      "text/plain": [
       "<matplotlib.figure.Figure at 0x9c14cc0>"
      ]
     },
     "metadata": {},
     "output_type": "display_data"
    }
   ],
   "source": [
    "Wards.plot()"
   ]
  },
  {
   "cell_type": "code",
   "execution_count": 25,
   "metadata": {},
   "outputs": [
    {
     "data": {
      "text/html": [
       "<div>\n",
       "<style scoped>\n",
       "    .dataframe tbody tr th:only-of-type {\n",
       "        vertical-align: middle;\n",
       "    }\n",
       "\n",
       "    .dataframe tbody tr th {\n",
       "        vertical-align: top;\n",
       "    }\n",
       "\n",
       "    .dataframe thead th {\n",
       "        text-align: right;\n",
       "    }\n",
       "</style>\n",
       "<table border=\"1\" class=\"dataframe\">\n",
       "  <thead>\n",
       "    <tr style=\"text-align: right;\">\n",
       "      <th></th>\n",
       "      <th>cartodb_id</th>\n",
       "      <th>descriptio</th>\n",
       "      <th>name</th>\n",
       "      <th>geometry</th>\n",
       "    </tr>\n",
       "  </thead>\n",
       "  <tbody>\n",
       "    <tr>\n",
       "      <th>0</th>\n",
       "      <td>60</td>\n",
       "      <td>Tenth Ward, Manhattan</td>\n",
       "      <td>MN Ward 10</td>\n",
       "      <td>POLYGON ((-73.99347782 40.72163218, -73.986697...</td>\n",
       "    </tr>\n",
       "    <tr>\n",
       "      <th>1</th>\n",
       "      <td>3</td>\n",
       "      <td>First Ward, Brooklyn</td>\n",
       "      <td>BK Ward 1</td>\n",
       "      <td>POLYGON ((-73.99060249328613 40.68911547188819...</td>\n",
       "    </tr>\n",
       "    <tr>\n",
       "      <th>2</th>\n",
       "      <td>6</td>\n",
       "      <td>Fifth Ward, Brooklyn</td>\n",
       "      <td>BK Ward 5</td>\n",
       "      <td>POLYGON ((-73.9851737 40.6949075, -73.98435831...</td>\n",
       "    </tr>\n",
       "    <tr>\n",
       "      <th>3</th>\n",
       "      <td>22</td>\n",
       "      <td>Twenty-First Ward, Brooklyn</td>\n",
       "      <td>BK Ward 21</td>\n",
       "      <td>POLYGON ((-73.95704268999999 40.69908851, -73....</td>\n",
       "    </tr>\n",
       "    <tr>\n",
       "      <th>4</th>\n",
       "      <td>9</td>\n",
       "      <td>Tenth Ward, Brooklyn</td>\n",
       "      <td>BK Ward 10</td>\n",
       "      <td>POLYGON ((-73.99150372 40.67500749, -73.996481...</td>\n",
       "    </tr>\n",
       "  </tbody>\n",
       "</table>\n",
       "</div>"
      ],
      "text/plain": [
       "   cartodb_id                   descriptio        name  \\\n",
       "0          60        Tenth Ward, Manhattan  MN Ward 10   \n",
       "1           3         First Ward, Brooklyn   BK Ward 1   \n",
       "2           6         Fifth Ward, Brooklyn   BK Ward 5   \n",
       "3          22  Twenty-First Ward, Brooklyn  BK Ward 21   \n",
       "4           9         Tenth Ward, Brooklyn  BK Ward 10   \n",
       "\n",
       "                                            geometry  \n",
       "0  POLYGON ((-73.99347782 40.72163218, -73.986697...  \n",
       "1  POLYGON ((-73.99060249328613 40.68911547188819...  \n",
       "2  POLYGON ((-73.9851737 40.6949075, -73.98435831...  \n",
       "3  POLYGON ((-73.95704268999999 40.69908851, -73....  \n",
       "4  POLYGON ((-73.99150372 40.67500749, -73.996481...  "
      ]
     },
     "execution_count": 25,
     "metadata": {},
     "output_type": "execute_result"
    }
   ],
   "source": [
    "Wards.head()"
   ]
  },
  {
   "cell_type": "code",
   "execution_count": 27,
   "metadata": {},
   "outputs": [
    {
     "data": {
      "text/plain": [
       "0     MN Ward 10\n",
       "1      BK Ward 1\n",
       "2      BK Ward 5\n",
       "3     BK Ward 21\n",
       "4     BK Ward 10\n",
       "5      BK Ward 6\n",
       "6      BK Ward 2\n",
       "7      BK Ward 4\n",
       "8     BK Ward 12\n",
       "9     BK Ward 11\n",
       "10     BK Ward 3\n",
       "11     BK Ward 7\n",
       "12    BK Ward 20\n",
       "13    BK Ward 19\n",
       "14    BK Ward 16\n",
       "15    BK Ward 18\n",
       "16     MN Ward 1\n",
       "17     BK Ward 9\n",
       "18    BK Ward 27\n",
       "19    BK Ward 15\n",
       "20    BK Ward 13\n",
       "21    MN Ward 17\n",
       "22    BK Ward 14\n",
       "23     BK Ward 8\n",
       "24    BK Ward 22\n",
       "25    BK Ward 17\n",
       "26     RI Ward 2\n",
       "27    MN Ward 11\n",
       "28     MN Ward 2\n",
       "29    BK Ward 29\n",
       "         ...    \n",
       "36     MN Ward 4\n",
       "37    BX Ward 23\n",
       "38     MN Ward 7\n",
       "39    MN Ward 21\n",
       "40     MN Ward 3\n",
       "41    BK Ward 32\n",
       "42    BK Ward 26\n",
       "43    BK Ward 23\n",
       "44    BK Ward 25\n",
       "45    BK Ward 28\n",
       "46     MN Ward 9\n",
       "47    MN Ward 15\n",
       "48    MN Ward 13\n",
       "49     MN Ward 8\n",
       "50    MN Ward 19\n",
       "51     RI Ward 5\n",
       "52     RI Ward 3\n",
       "53     RI Ward 1\n",
       "54     MN Ward 5\n",
       "55     QN Ward 1\n",
       "56     QN Ward 2\n",
       "57     QN Ward 4\n",
       "58     QN Ward 5\n",
       "59    MN Ward 16\n",
       "60     QN Ward 3\n",
       "61     RI Ward 4\n",
       "62    BX Ward 24\n",
       "63     MN Ward 6\n",
       "64    MN Ward 14\n",
       "65    MN Ward 12\n",
       "Name: name, Length: 66, dtype: object"
      ]
     },
     "execution_count": 27,
     "metadata": {},
     "output_type": "execute_result"
    }
   ],
   "source": [
    "Wards.name"
   ]
  },
  {
   "cell_type": "markdown",
   "metadata": {},
   "source": [
    "We see that the best way of identifying or merging the data is seemingly by using the \"name\" code inthe Wards data. So, we will have to munge the data to get that to work correctly. Here goes - after first reading in the data:"
   ]
  },
  {
   "cell_type": "code",
   "execution_count": 28,
   "metadata": {},
   "outputs": [],
   "source": [
    "Data = pd.read_stata('190313mod.dta')"
   ]
  },
  {
   "cell_type": "code",
   "execution_count": 29,
   "metadata": {},
   "outputs": [
    {
     "data": {
      "text/plain": [
       "{'BR', 'BX', 'MA', 'QU', 'RI'}"
      ]
     },
     "execution_count": 29,
     "metadata": {},
     "output_type": "execute_result"
    }
   ],
   "source": [
    "set(Data['borough'])"
   ]
  },
  {
   "cell_type": "code",
   "execution_count": 30,
   "metadata": {},
   "outputs": [],
   "source": [
    "splitnames =  [name.split() for name in Wards['name']]"
   ]
  },
  {
   "cell_type": "code",
   "execution_count": 32,
   "metadata": {},
   "outputs": [],
   "source": [
    "Wards['borough'] = [split[0] for split in splitnames]\n",
    "Wards['number']  = [split[2] for split in splitnames]"
   ]
  },
  {
   "cell_type": "markdown",
   "metadata": {},
   "source": [
    "Now that the boroughs have been split out of the tag that we gave them, we can change the tags so that they correspond with those in our data."
   ]
  },
  {
   "cell_type": "code",
   "execution_count": 33,
   "metadata": {},
   "outputs": [
    {
     "name": "stderr",
     "output_type": "stream",
     "text": [
      "C:\\Users\\mjbaker\\AppData\\Local\\Continuum\\Anaconda3\\lib\\site-packages\\pandas\\core\\indexing.py:194: SettingWithCopyWarning: \n",
      "A value is trying to be set on a copy of a slice from a DataFrame\n",
      "\n",
      "See the caveats in the documentation: http://pandas.pydata.org/pandas-docs/stable/indexing.html#indexing-view-versus-copy\n",
      "  self._setitem_with_indexer(indexer, value)\n"
     ]
    }
   ],
   "source": [
    "Wards['borough'].loc[Wards['borough'] == 'MN'] = 'MA'\n",
    "Wards['borough'].loc[Wards['borough'] == 'QN'] = 'QU'\n",
    "Wards['borough'].loc[Wards['borough'] == 'BK'] = 'BR'"
   ]
  },
  {
   "cell_type": "code",
   "execution_count": 34,
   "metadata": {},
   "outputs": [
    {
     "data": {
      "text/html": [
       "<div>\n",
       "<style scoped>\n",
       "    .dataframe tbody tr th:only-of-type {\n",
       "        vertical-align: middle;\n",
       "    }\n",
       "\n",
       "    .dataframe tbody tr th {\n",
       "        vertical-align: top;\n",
       "    }\n",
       "\n",
       "    .dataframe thead th {\n",
       "        text-align: right;\n",
       "    }\n",
       "</style>\n",
       "<table border=\"1\" class=\"dataframe\">\n",
       "  <thead>\n",
       "    <tr style=\"text-align: right;\">\n",
       "      <th></th>\n",
       "      <th>cartodb_id</th>\n",
       "      <th>descriptio</th>\n",
       "      <th>name</th>\n",
       "      <th>geometry</th>\n",
       "      <th>borough</th>\n",
       "      <th>number</th>\n",
       "    </tr>\n",
       "  </thead>\n",
       "  <tbody>\n",
       "    <tr>\n",
       "      <th>0</th>\n",
       "      <td>60</td>\n",
       "      <td>Tenth Ward, Manhattan</td>\n",
       "      <td>MN Ward 10</td>\n",
       "      <td>POLYGON ((-73.99347782 40.72163218, -73.986697...</td>\n",
       "      <td>MA</td>\n",
       "      <td>10</td>\n",
       "    </tr>\n",
       "    <tr>\n",
       "      <th>1</th>\n",
       "      <td>3</td>\n",
       "      <td>First Ward, Brooklyn</td>\n",
       "      <td>BK Ward 1</td>\n",
       "      <td>POLYGON ((-73.99060249328613 40.68911547188819...</td>\n",
       "      <td>BR</td>\n",
       "      <td>1</td>\n",
       "    </tr>\n",
       "    <tr>\n",
       "      <th>2</th>\n",
       "      <td>6</td>\n",
       "      <td>Fifth Ward, Brooklyn</td>\n",
       "      <td>BK Ward 5</td>\n",
       "      <td>POLYGON ((-73.9851737 40.6949075, -73.98435831...</td>\n",
       "      <td>BR</td>\n",
       "      <td>5</td>\n",
       "    </tr>\n",
       "    <tr>\n",
       "      <th>3</th>\n",
       "      <td>22</td>\n",
       "      <td>Twenty-First Ward, Brooklyn</td>\n",
       "      <td>BK Ward 21</td>\n",
       "      <td>POLYGON ((-73.95704268999999 40.69908851, -73....</td>\n",
       "      <td>BR</td>\n",
       "      <td>21</td>\n",
       "    </tr>\n",
       "    <tr>\n",
       "      <th>4</th>\n",
       "      <td>9</td>\n",
       "      <td>Tenth Ward, Brooklyn</td>\n",
       "      <td>BK Ward 10</td>\n",
       "      <td>POLYGON ((-73.99150372 40.67500749, -73.996481...</td>\n",
       "      <td>BR</td>\n",
       "      <td>10</td>\n",
       "    </tr>\n",
       "  </tbody>\n",
       "</table>\n",
       "</div>"
      ],
      "text/plain": [
       "   cartodb_id                   descriptio        name  \\\n",
       "0          60        Tenth Ward, Manhattan  MN Ward 10   \n",
       "1           3         First Ward, Brooklyn   BK Ward 1   \n",
       "2           6         Fifth Ward, Brooklyn   BK Ward 5   \n",
       "3          22  Twenty-First Ward, Brooklyn  BK Ward 21   \n",
       "4           9         Tenth Ward, Brooklyn  BK Ward 10   \n",
       "\n",
       "                                            geometry borough number  \n",
       "0  POLYGON ((-73.99347782 40.72163218, -73.986697...      MA     10  \n",
       "1  POLYGON ((-73.99060249328613 40.68911547188819...      BR      1  \n",
       "2  POLYGON ((-73.9851737 40.6949075, -73.98435831...      BR      5  \n",
       "3  POLYGON ((-73.95704268999999 40.69908851, -73....      BR     21  \n",
       "4  POLYGON ((-73.99150372 40.67500749, -73.996481...      BR     10  "
      ]
     },
     "execution_count": 34,
     "metadata": {},
     "output_type": "execute_result"
    }
   ],
   "source": [
    "Wards.head()"
   ]
  },
  {
   "cell_type": "markdown",
   "metadata": {},
   "source": [
    "This code basically just deals with the problem posed by the twelfth ward being composed of four subwards in the data. So, we combine them..."
   ]
  },
  {
   "cell_type": "code",
   "execution_count": 36,
   "metadata": {},
   "outputs": [],
   "source": [
    "Slice = Data[Data['wards'].str.contains(\"Twelfth\")]\n",
    "Slice = Slice[Slice['year'] > 1911]\n",
    "Slice = Slice[Slice['borough'] == 'MA']"
   ]
  },
  {
   "cell_type": "markdown",
   "metadata": {},
   "source": [
    "There must be a better way to do this, but we will make a new row manually..."
   ]
  },
  {
   "cell_type": "code",
   "execution_count": 37,
   "metadata": {},
   "outputs": [],
   "source": [
    "Slice['wards'].loc[Slice['wards'] == 'TwelfthN'] = 'Twelfth'\n",
    "Slice['populationbycensusof1900'].loc[Slice['wards'] == 'Twelfth'] = (205130+332692+103532+165294)\n",
    "Slice['numberofpersonstotheacre'].loc[Slice['wards'] == 'Twelfth'] = 86.599998"
   ]
  },
  {
   "cell_type": "code",
   "execution_count": 38,
   "metadata": {},
   "outputs": [
    {
     "name": "stderr",
     "output_type": "stream",
     "text": [
      "C:\\Users\\mjbaker\\AppData\\Local\\Continuum\\Anaconda3\\lib\\site-packages\\pandas\\core\\indexing.py:194: SettingWithCopyWarning: \n",
      "A value is trying to be set on a copy of a slice from a DataFrame\n",
      "\n",
      "See the caveats in the documentation: http://pandas.pydata.org/pandas-docs/stable/indexing.html#indexing-view-versus-copy\n",
      "  self._setitem_with_indexer(indexer, value)\n"
     ]
    }
   ],
   "source": [
    "Slice['typhoidfever'].loc[(Slice['wards'] == 'Twelfth') & (Slice['year'] == 1912)] = (13+23+18+6)\n",
    "Slice['typhoidfever'].loc[(Slice['wards'] == 'Twelfth') & (Slice['year'] == 1913)] = (8+17+17+12)\n",
    "Slice['malarialfever'].loc[(Slice['wards'] == 'Twelfth') & (Slice['year'] == 1912)] = 0\n",
    "Slice['malarialfever'].loc[(Slice['wards'] == 'Twelfth') & (Slice['year'] == 1913)] = 2\n",
    "Slice['measles'].loc[(Slice['wards'] == 'Twelfth') & (Slice['year'] == 1912)] = 54+23+9+6\n",
    "Slice['measles'].loc[(Slice['wards'] == 'Twelfth') & (Slice['year'] == 1913)] = 55+15+4+4\n",
    "Slice['scarletfever'].loc[(Slice['wards'] == 'Twelfth') & (Slice['year'] == 1912)] = 30+18+6+10\n",
    "Slice['scarletfever'].loc[(Slice['wards'] == 'Twelfth') & (Slice['year'] == 1913)] = 11+32+5+4\n",
    "Slice['whoopingcough'].loc[(Slice['wards'] == 'Twelfth') & (Slice['year'] == 1912)] = 22+15+6+4\n",
    "Slice['whoopingcough'].loc[(Slice['wards'] == 'Twelfth') & (Slice['year'] == 1913)] = 36+23+6+6\n",
    "Slice['diphteria'].loc[(Slice['wards'] == 'Twelfth') & (Slice['year'] == 1912)] = 61+33+21+16\n",
    "Slice['diphteria'].loc[(Slice['wards'] == 'Twelfth') & (Slice['year'] == 1913)] = 92+53+29+23\n",
    "Slice['pulmonarytuberculosisphithisis'].loc[(Slice['wards'] == 'Twelfth') & (Slice['year'] == 1912)] = 316+387+161+150\n",
    "Slice['pulmonarytuberculosisphithisis'].loc[(Slice['wards'] == 'Twelfth') & (Slice['year'] == 1913)] = 334+502+234+153\n",
    "Slice['cerebrospinalmeningitis'].loc[(Slice['wards'] == 'Twelfth') & (Slice['year'] == 1912)] = 16+4+4+5\n",
    "Slice['cerebrospinalmeningitis'].loc[(Slice['wards'] == 'Twelfth') & (Slice['year'] == 1913)] = 9+12+3+1\n",
    "Slice['pneumonia'].loc[(Slice['wards'] == 'Twelfth') & (Slice['year'] == 1912)] = 274+281+153+116\n",
    "Slice['pneumonia'].loc[(Slice['wards'] == 'Twelfth') & (Slice['year'] == 1913)] = 222+315+166+113\n",
    "Slice['bronchopneumonia'].loc[(Slice['wards'] == 'Twelfth') & (Slice['year'] == 1912)] = 333+191+79+54\n",
    "Slice['bronchopneumonia'].loc[(Slice['wards'] == 'Twelfth') & (Slice['year'] == 1913)] = 359+209+87+45\n",
    "Slice['diarrhealdiseases'].loc[(Slice['wards'] == 'Twelfth') & (Slice['year'] == 1912)] = 293+138+69+50\n",
    "Slice['diarrhealdiseases'].loc[(Slice['wards'] == 'Twelfth') & (Slice['year'] == 1913)] = 258+147+62+44\n",
    "Slice['allcauses'].loc[(Slice['wards'] == 'Twelfth') & (Slice['year'] == 1912)] = 3421+3728+2307+1637\n",
    "Slice['allcauses'].loc[(Slice['wards'] == 'Twelfth') & (Slice['year'] == 1913)] = 3100+4225+2468+1571\n",
    "Slice['deathsofchildrenunder5years'].loc[(Slice['wards'] == 'Twelfth') & (Slice['year'] == 1912)] = 1454+810+347+285\n",
    "Slice['deathsofchildrenunder5years'].loc[(Slice['wards'] == 'Twelfth') & (Slice['year'] == 1913)] = 1356+940+367+275"
   ]
  },
  {
   "cell_type": "code",
   "execution_count": 39,
   "metadata": {},
   "outputs": [],
   "source": [
    "Slice = Slice.loc[Slice['wards'] == 'Twelfth']"
   ]
  },
  {
   "cell_type": "code",
   "execution_count": 40,
   "metadata": {},
   "outputs": [],
   "source": [
    "Data = Data.loc[(Data['wards'] != 'TwelfthN')]\n",
    "Data = Data.loc[(Data['wards'] != 'TwelfthC')]\n",
    "Data = Data.loc[(Data['wards'] != 'TwelfthE')]\n",
    "Data = Data.loc[(Data['wards'] != 'TwelfthW')]\n",
    "Data = Data.loc[(Data['wards'] != 'Total')]"
   ]
  },
  {
   "cell_type": "code",
   "execution_count": 41,
   "metadata": {},
   "outputs": [],
   "source": [
    "Data = Data.append(Slice)"
   ]
  },
  {
   "cell_type": "markdown",
   "metadata": {},
   "source": [
    "# At this point...\n",
    "\n",
    "We now have a clean bunch of data, and we only have to clean up the numbering of the wards. "
   ]
  },
  {
   "cell_type": "code",
   "execution_count": 76,
   "metadata": {},
   "outputs": [],
   "source": [
    "translator = {'Eighteenth':18, 'Eighth':8, 'Eleventh':11, 'Fifteenth':15, 'Fifth':5, 'First':1, 'Fourteenth':14,\n",
    " 'Fourth':4, 'Nineteenth':19, 'Ninth':9, 'Second':2, 'Seventeenth':17, 'Seventh':7, 'Sixteenth':16, 'Sixth':6, 'Tenth':10,\n",
    " 'Third':3, 'Thirteenth':13, 'Thirtieth':30, 'Thirty-first':31, 'Thirty-second':32, 'Twelfth':12, 'Twentieth':20,\n",
    "              'Twenty-Third':23,\n",
    " 'Twenty-eigth':28, 'Twenty-fifth':25, 'Twenty-first':21, 'Twenty-fourth':24, 'Twenty-ninth':29, 'Twenty-second':22,\n",
    " 'Twenty-seventh':27, 'Twenty-sixth':26, 'Twenty-third':23}"
   ]
  },
  {
   "cell_type": "code",
   "execution_count": 52,
   "metadata": {},
   "outputs": [],
   "source": [
    "Data['wardno']= Data['wards'].map(translator)"
   ]
  },
  {
   "cell_type": "code",
   "execution_count": 77,
   "metadata": {},
   "outputs": [],
   "source": [
    "Wards.rename(columns={'number': 'wardno'}, inplace=True)\n",
    "Wards['wardno'] = [int(wn) for wn in Wards['wardno']]"
   ]
  },
  {
   "cell_type": "code",
   "execution_count": 79,
   "metadata": {},
   "outputs": [],
   "source": [
    "MergedData = Data.merge(Wards, how='outer', left_on=['borough', 'wardno'], right_on=['borough', 'wardno'])"
   ]
  },
  {
   "cell_type": "code",
   "execution_count": 80,
   "metadata": {},
   "outputs": [],
   "source": [
    "MergedData = GeoDataFrame(MergedData)"
   ]
  },
  {
   "cell_type": "markdown",
   "metadata": {},
   "source": [
    "Let's comb through the data and replace population numbers where we have them. This gives:"
   ]
  },
  {
   "cell_type": "code",
   "execution_count": 229,
   "metadata": {},
   "outputs": [],
   "source": [
    "foo = []\n",
    "for p in MergedData['populationbycensusof1900']:\n",
    "    try:\n",
    "        foo.append(float(p.replace(',', '')))\n",
    "    except:\n",
    "        foo.append(np.nan)\n",
    "        \n",
    "MergedData['pop'] = foo\n",
    "\n",
    "foo = []\n",
    "i=0\n",
    "for p in MergedData['diarrhealdiseases']:\n",
    "    try:\n",
    "        foo.append(float(p))\n",
    "    except:\n",
    "        foo.append(np.nan)\n",
    "        \n",
    "MergedData['diarrhea'] = foo\n",
    "\n",
    "foo = []\n",
    "i=0\n",
    "for p in MergedData['allcauses']:\n",
    "    try:\n",
    "        foo.append(float(p))\n",
    "    except:\n",
    "        foo.append(np.nan)\n",
    "        \n",
    "MergedData['allcauses'] = foo"
   ]
  },
  {
   "cell_type": "markdown",
   "metadata": {},
   "source": [
    "Let's now look at how many deaths per capita we have from a few things:"
   ]
  },
  {
   "cell_type": "code",
   "execution_count": 230,
   "metadata": {},
   "outputs": [],
   "source": [
    "MergedData['typhpercap'] = MergedData['typhoidfever'] / MergedData['pop'] * 1000\n",
    "MergedData['malpercap']  = MergedData['malarialfever'] / MergedData['pop'] * 1000\n",
    "MergedData['mengpercap'] = MergedData['cerebrospinalmeningitis'] / MergedData['pop'] * 1000\n",
    "MergedData['diarpercap'] = MergedData['diarrhea'] / MergedData['pop'] * 1000\n",
    "MergedData['measpercap'] = MergedData['measles'] / MergedData['pop'] * 1000\n",
    "MergedData['pnupercap']  = MergedData['pneumonia'] / MergedData['pop'] * 1000\n",
    "MergedData['allpercap']  = MergedData['allcauses'] / MergedData['pop'] * 1000"
   ]
  },
  {
   "cell_type": "code",
   "execution_count": 231,
   "metadata": {},
   "outputs": [],
   "source": [
    "tomap = MergedData.loc[MergedData['year'] == 1908]"
   ]
  },
  {
   "cell_type": "code",
   "execution_count": 233,
   "metadata": {},
   "outputs": [
    {
     "name": "stderr",
     "output_type": "stream",
     "text": [
      "C:\\Users\\mjbaker\\AppData\\Local\\Continuum\\Anaconda3\\lib\\site-packages\\matplotlib\\colors.py:489: RuntimeWarning: invalid value encountered in less\n",
      "  np.copyto(xa, -1, where=xa < 0.0)\n"
     ]
    },
    {
     "data": {
      "image/png": "[encoded data removed]",
      "text/plain": [
       "<matplotlib.figure.Figure at 0xf085a20>"
      ]
     },
     "metadata": {},
     "output_type": "display_data"
    }
   ],
   "source": [
    "f, ax = plt.subplots(1, figsize=(8, 8))\n",
    "ax    = tomap.plot(ax=ax, column='allpercap', cmap='OrRd')\n",
    "plt.show()"
   ]
  },
  {
   "cell_type": "markdown",
   "metadata": {},
   "source": [
    "The above seems to basically get the basic idea about right. Let's now look at a simple example of how diseases correlate with population density..."
   ]
  },
  {
   "cell_type": "code",
   "execution_count": 237,
   "metadata": {},
   "outputs": [
    {
     "data": {
      "text/plain": [
       "<matplotlib.collections.PathCollection at 0xe724128>"
      ]
     },
     "execution_count": 237,
     "metadata": {},
     "output_type": "execute_result"
    },
    {
     "data": {
      "image/png": "[encoded data removed]",
      "text/plain": [
       "<matplotlib.figure.Figure at 0xf0ee048>"
      ]
     },
     "metadata": {},
     "output_type": "display_data"
    }
   ],
   "source": [
    "plt.scatter( tomap['numberofpersonstotheacre'], tomap['allpercap'])"
   ]
  },
  {
   "cell_type": "code",
   "execution_count": 258,
   "metadata": {},
   "outputs": [
    {
     "name": "stdout",
     "output_type": "stream",
     "text": [
      "                          malpercap  numberofpersonstotheacre  typhpercap  \\\n",
      "malpercap                  1.000000                 -0.158958    0.216683   \n",
      "numberofpersonstotheacre  -0.158958                  1.000000   -0.271128   \n",
      "typhpercap                 0.216683                 -0.271128    1.000000   \n",
      "mengpercap                -0.064969                 -0.031497    0.126394   \n",
      "diarpercap                 0.391468                 -0.322551    0.305576   \n",
      "measles                   -0.095306                 -0.015210    0.071510   \n",
      "pneumonia                 -0.053826                  0.078820    0.066795   \n",
      "allpercap                  0.148330                 -0.444113    0.604452   \n",
      "\n",
      "                          mengpercap  diarpercap   measles  pneumonia  \\\n",
      "malpercap                  -0.064969    0.391468 -0.095306  -0.053826   \n",
      "numberofpersonstotheacre   -0.031497   -0.322551 -0.015210   0.078820   \n",
      "typhpercap                  0.126394    0.305576  0.071510   0.066795   \n",
      "mengpercap                  1.000000    0.097539  0.105105  -0.007991   \n",
      "diarpercap                  0.097539    1.000000 -0.019967  -0.124337   \n",
      "measles                     0.105105   -0.019967  1.000000   0.572734   \n",
      "pneumonia                  -0.007991   -0.124337  0.572734   1.000000   \n",
      "allpercap                   0.586777    0.466071 -0.252337  -0.235151   \n",
      "\n",
      "                          allpercap  \n",
      "malpercap                  0.148330  \n",
      "numberofpersonstotheacre  -0.444113  \n",
      "typhpercap                 0.604452  \n",
      "mengpercap                 0.586777  \n",
      "diarpercap                 0.466071  \n",
      "measles                   -0.252337  \n",
      "pneumonia                 -0.235151  \n",
      "allpercap                  1.000000  \n",
      "malpercap                     0.015372\n",
      "numberofpersonstotheacre    116.336364\n",
      "typhpercap                    0.169955\n",
      "mengpercap                    0.110444\n",
      "diarpercap                    2.204717\n",
      "measles                      14.727273\n",
      "pneumonia                    70.484848\n",
      "allpercap                    20.547079\n",
      "dtype: float64\n"
     ]
    }
   ],
   "source": [
    "afflictions = ['malpercap','numberofpersonstotheacre', 'typhpercap', 'mengpercap', \n",
    "       'diarpercap', 'measles', 'pneumonia', 'allpercap']\n",
    "\n",
    "print(tomap[afflictions].corr())\n",
    "print(tomap[afflictions].mean())"
   ]
  },
  {
   "cell_type": "code",
   "execution_count": 240,
   "metadata": {},
   "outputs": [
    {
     "ename": "KeyError",
     "evalue": "'diptheria'",
     "output_type": "error",
     "traceback": [
      "\u001b[1;31m---------------------------------------------------------------------------\u001b[0m",
      "\u001b[1;31mKeyError\u001b[0m                                  Traceback (most recent call last)",
      "\u001b[1;32m~\\AppData\\Local\\Continuum\\Anaconda3\\lib\\site-packages\\pandas\\core\\indexes\\base.py\u001b[0m in \u001b[0;36mget_loc\u001b[1;34m(self, key, method, tolerance)\u001b[0m\n\u001b[0;32m   2524\u001b[0m             \u001b[1;32mtry\u001b[0m\u001b[1;33m:\u001b[0m\u001b[1;33m\u001b[0m\u001b[0m\n\u001b[1;32m-> 2525\u001b[1;33m                 \u001b[1;32mreturn\u001b[0m \u001b[0mself\u001b[0m\u001b[1;33m.\u001b[0m\u001b[0m_engine\u001b[0m\u001b[1;33m.\u001b[0m\u001b[0mget_loc\u001b[0m\u001b[1;33m(\u001b[0m\u001b[0mkey\u001b[0m\u001b[1;33m)\u001b[0m\u001b[1;33m\u001b[0m\u001b[0m\n\u001b[0m\u001b[0;32m   2526\u001b[0m             \u001b[1;32mexcept\u001b[0m \u001b[0mKeyError\u001b[0m\u001b[1;33m:\u001b[0m\u001b[1;33m\u001b[0m\u001b[0m\n",
      "\u001b[1;32mpandas/_libs/index.pyx\u001b[0m in \u001b[0;36mpandas._libs.index.IndexEngine.get_loc\u001b[1;34m()\u001b[0m\n",
      "\u001b[1;32mpandas/_libs/index.pyx\u001b[0m in \u001b[0;36mpandas._libs.index.IndexEngine.get_loc\u001b[1;34m()\u001b[0m\n",
      "\u001b[1;32mpandas/_libs/hashtable_class_helper.pxi\u001b[0m in \u001b[0;36mpandas._libs.hashtable.PyObjectHashTable.get_item\u001b[1;34m()\u001b[0m\n",
      "\u001b[1;32mpandas/_libs/hashtable_class_helper.pxi\u001b[0m in \u001b[0;36mpandas._libs.hashtable.PyObjectHashTable.get_item\u001b[1;34m()\u001b[0m\n",
      "\u001b[1;31mKeyError\u001b[0m: 'diptheria'",
      "\nDuring handling of the above exception, another exception occurred:\n",
      "\u001b[1;31mKeyError\u001b[0m                                  Traceback (most recent call last)",
      "\u001b[1;32m<ipython-input-240-f0d2e2bf21f3>\u001b[0m in \u001b[0;36m<module>\u001b[1;34m()\u001b[0m\n\u001b[1;32m----> 1\u001b[1;33m \u001b[0mtomap\u001b[0m\u001b[1;33m[\u001b[0m\u001b[1;34m'diptheria'\u001b[0m\u001b[1;33m]\u001b[0m\u001b[1;33m\u001b[0m\u001b[0m\n\u001b[0m",
      "\u001b[1;32m~\\AppData\\Local\\Continuum\\Anaconda3\\lib\\site-packages\\geopandas\\geodataframe.py\u001b[0m in \u001b[0;36m__getitem__\u001b[1;34m(self, key)\u001b[0m\n\u001b[0;32m    396\u001b[0m         \u001b[0mGeoDataFrame\u001b[0m\u001b[1;33m.\u001b[0m\u001b[1;33m\u001b[0m\u001b[0m\n\u001b[0;32m    397\u001b[0m         \"\"\"\n\u001b[1;32m--> 398\u001b[1;33m         \u001b[0mresult\u001b[0m \u001b[1;33m=\u001b[0m \u001b[0msuper\u001b[0m\u001b[1;33m(\u001b[0m\u001b[0mGeoDataFrame\u001b[0m\u001b[1;33m,\u001b[0m \u001b[0mself\u001b[0m\u001b[1;33m)\u001b[0m\u001b[1;33m.\u001b[0m\u001b[0m__getitem__\u001b[0m\u001b[1;33m(\u001b[0m\u001b[0mkey\u001b[0m\u001b[1;33m)\u001b[0m\u001b[1;33m\u001b[0m\u001b[0m\n\u001b[0m\u001b[0;32m    399\u001b[0m         \u001b[0mgeo_col\u001b[0m \u001b[1;33m=\u001b[0m \u001b[0mself\u001b[0m\u001b[1;33m.\u001b[0m\u001b[0m_geometry_column_name\u001b[0m\u001b[1;33m\u001b[0m\u001b[0m\n\u001b[0;32m    400\u001b[0m         \u001b[1;32mif\u001b[0m \u001b[0misinstance\u001b[0m\u001b[1;33m(\u001b[0m\u001b[0mkey\u001b[0m\u001b[1;33m,\u001b[0m \u001b[0mstring_types\u001b[0m\u001b[1;33m)\u001b[0m \u001b[1;32mand\u001b[0m \u001b[0mkey\u001b[0m \u001b[1;33m==\u001b[0m \u001b[0mgeo_col\u001b[0m\u001b[1;33m:\u001b[0m\u001b[1;33m\u001b[0m\u001b[0m\n",
      "\u001b[1;32m~\\AppData\\Local\\Continuum\\Anaconda3\\lib\\site-packages\\pandas\\core\\frame.py\u001b[0m in \u001b[0;36m__getitem__\u001b[1;34m(self, key)\u001b[0m\n\u001b[0;32m   2137\u001b[0m             \u001b[1;32mreturn\u001b[0m \u001b[0mself\u001b[0m\u001b[1;33m.\u001b[0m\u001b[0m_getitem_multilevel\u001b[0m\u001b[1;33m(\u001b[0m\u001b[0mkey\u001b[0m\u001b[1;33m)\u001b[0m\u001b[1;33m\u001b[0m\u001b[0m\n\u001b[0;32m   2138\u001b[0m         \u001b[1;32melse\u001b[0m\u001b[1;33m:\u001b[0m\u001b[1;33m\u001b[0m\u001b[0m\n\u001b[1;32m-> 2139\u001b[1;33m             \u001b[1;32mreturn\u001b[0m \u001b[0mself\u001b[0m\u001b[1;33m.\u001b[0m\u001b[0m_getitem_column\u001b[0m\u001b[1;33m(\u001b[0m\u001b[0mkey\u001b[0m\u001b[1;33m)\u001b[0m\u001b[1;33m\u001b[0m\u001b[0m\n\u001b[0m\u001b[0;32m   2140\u001b[0m \u001b[1;33m\u001b[0m\u001b[0m\n\u001b[0;32m   2141\u001b[0m     \u001b[1;32mdef\u001b[0m \u001b[0m_getitem_column\u001b[0m\u001b[1;33m(\u001b[0m\u001b[0mself\u001b[0m\u001b[1;33m,\u001b[0m \u001b[0mkey\u001b[0m\u001b[1;33m)\u001b[0m\u001b[1;33m:\u001b[0m\u001b[1;33m\u001b[0m\u001b[0m\n",
      "\u001b[1;32m~\\AppData\\Local\\Continuum\\Anaconda3\\lib\\site-packages\\pandas\\core\\frame.py\u001b[0m in \u001b[0;36m_getitem_column\u001b[1;34m(self, key)\u001b[0m\n\u001b[0;32m   2144\u001b[0m         \u001b[1;31m# get column\u001b[0m\u001b[1;33m\u001b[0m\u001b[1;33m\u001b[0m\u001b[0m\n\u001b[0;32m   2145\u001b[0m         \u001b[1;32mif\u001b[0m \u001b[0mself\u001b[0m\u001b[1;33m.\u001b[0m\u001b[0mcolumns\u001b[0m\u001b[1;33m.\u001b[0m\u001b[0mis_unique\u001b[0m\u001b[1;33m:\u001b[0m\u001b[1;33m\u001b[0m\u001b[0m\n\u001b[1;32m-> 2146\u001b[1;33m             \u001b[1;32mreturn\u001b[0m \u001b[0mself\u001b[0m\u001b[1;33m.\u001b[0m\u001b[0m_get_item_cache\u001b[0m\u001b[1;33m(\u001b[0m\u001b[0mkey\u001b[0m\u001b[1;33m)\u001b[0m\u001b[1;33m\u001b[0m\u001b[0m\n\u001b[0m\u001b[0;32m   2147\u001b[0m \u001b[1;33m\u001b[0m\u001b[0m\n\u001b[0;32m   2148\u001b[0m         \u001b[1;31m# duplicate columns & possible reduce dimensionality\u001b[0m\u001b[1;33m\u001b[0m\u001b[1;33m\u001b[0m\u001b[0m\n",
      "\u001b[1;32m~\\AppData\\Local\\Continuum\\Anaconda3\\lib\\site-packages\\pandas\\core\\generic.py\u001b[0m in \u001b[0;36m_get_item_cache\u001b[1;34m(self, item)\u001b[0m\n\u001b[0;32m   1840\u001b[0m         \u001b[0mres\u001b[0m \u001b[1;33m=\u001b[0m \u001b[0mcache\u001b[0m\u001b[1;33m.\u001b[0m\u001b[0mget\u001b[0m\u001b[1;33m(\u001b[0m\u001b[0mitem\u001b[0m\u001b[1;33m)\u001b[0m\u001b[1;33m\u001b[0m\u001b[0m\n\u001b[0;32m   1841\u001b[0m         \u001b[1;32mif\u001b[0m \u001b[0mres\u001b[0m \u001b[1;32mis\u001b[0m \u001b[1;32mNone\u001b[0m\u001b[1;33m:\u001b[0m\u001b[1;33m\u001b[0m\u001b[0m\n\u001b[1;32m-> 1842\u001b[1;33m             \u001b[0mvalues\u001b[0m \u001b[1;33m=\u001b[0m \u001b[0mself\u001b[0m\u001b[1;33m.\u001b[0m\u001b[0m_data\u001b[0m\u001b[1;33m.\u001b[0m\u001b[0mget\u001b[0m\u001b[1;33m(\u001b[0m\u001b[0mitem\u001b[0m\u001b[1;33m)\u001b[0m\u001b[1;33m\u001b[0m\u001b[0m\n\u001b[0m\u001b[0;32m   1843\u001b[0m             \u001b[0mres\u001b[0m \u001b[1;33m=\u001b[0m \u001b[0mself\u001b[0m\u001b[1;33m.\u001b[0m\u001b[0m_box_item_values\u001b[0m\u001b[1;33m(\u001b[0m\u001b[0mitem\u001b[0m\u001b[1;33m,\u001b[0m \u001b[0mvalues\u001b[0m\u001b[1;33m)\u001b[0m\u001b[1;33m\u001b[0m\u001b[0m\n\u001b[0;32m   1844\u001b[0m             \u001b[0mcache\u001b[0m\u001b[1;33m[\u001b[0m\u001b[0mitem\u001b[0m\u001b[1;33m]\u001b[0m \u001b[1;33m=\u001b[0m \u001b[0mres\u001b[0m\u001b[1;33m\u001b[0m\u001b[0m\n",
      "\u001b[1;32m~\\AppData\\Local\\Continuum\\Anaconda3\\lib\\site-packages\\pandas\\core\\internals.py\u001b[0m in \u001b[0;36mget\u001b[1;34m(self, item, fastpath)\u001b[0m\n\u001b[0;32m   3841\u001b[0m \u001b[1;33m\u001b[0m\u001b[0m\n\u001b[0;32m   3842\u001b[0m             \u001b[1;32mif\u001b[0m \u001b[1;32mnot\u001b[0m \u001b[0misna\u001b[0m\u001b[1;33m(\u001b[0m\u001b[0mitem\u001b[0m\u001b[1;33m)\u001b[0m\u001b[1;33m:\u001b[0m\u001b[1;33m\u001b[0m\u001b[0m\n\u001b[1;32m-> 3843\u001b[1;33m                 \u001b[0mloc\u001b[0m \u001b[1;33m=\u001b[0m \u001b[0mself\u001b[0m\u001b[1;33m.\u001b[0m\u001b[0mitems\u001b[0m\u001b[1;33m.\u001b[0m\u001b[0mget_loc\u001b[0m\u001b[1;33m(\u001b[0m\u001b[0mitem\u001b[0m\u001b[1;33m)\u001b[0m\u001b[1;33m\u001b[0m\u001b[0m\n\u001b[0m\u001b[0;32m   3844\u001b[0m             \u001b[1;32melse\u001b[0m\u001b[1;33m:\u001b[0m\u001b[1;33m\u001b[0m\u001b[0m\n\u001b[0;32m   3845\u001b[0m                 \u001b[0mindexer\u001b[0m \u001b[1;33m=\u001b[0m \u001b[0mnp\u001b[0m\u001b[1;33m.\u001b[0m\u001b[0marange\u001b[0m\u001b[1;33m(\u001b[0m\u001b[0mlen\u001b[0m\u001b[1;33m(\u001b[0m\u001b[0mself\u001b[0m\u001b[1;33m.\u001b[0m\u001b[0mitems\u001b[0m\u001b[1;33m)\u001b[0m\u001b[1;33m)\u001b[0m\u001b[1;33m[\u001b[0m\u001b[0misna\u001b[0m\u001b[1;33m(\u001b[0m\u001b[0mself\u001b[0m\u001b[1;33m.\u001b[0m\u001b[0mitems\u001b[0m\u001b[1;33m)\u001b[0m\u001b[1;33m]\u001b[0m\u001b[1;33m\u001b[0m\u001b[0m\n",
      "\u001b[1;32m~\\AppData\\Local\\Continuum\\Anaconda3\\lib\\site-packages\\pandas\\core\\indexes\\base.py\u001b[0m in \u001b[0;36mget_loc\u001b[1;34m(self, key, method, tolerance)\u001b[0m\n\u001b[0;32m   2525\u001b[0m                 \u001b[1;32mreturn\u001b[0m \u001b[0mself\u001b[0m\u001b[1;33m.\u001b[0m\u001b[0m_engine\u001b[0m\u001b[1;33m.\u001b[0m\u001b[0mget_loc\u001b[0m\u001b[1;33m(\u001b[0m\u001b[0mkey\u001b[0m\u001b[1;33m)\u001b[0m\u001b[1;33m\u001b[0m\u001b[0m\n\u001b[0;32m   2526\u001b[0m             \u001b[1;32mexcept\u001b[0m \u001b[0mKeyError\u001b[0m\u001b[1;33m:\u001b[0m\u001b[1;33m\u001b[0m\u001b[0m\n\u001b[1;32m-> 2527\u001b[1;33m                 \u001b[1;32mreturn\u001b[0m \u001b[0mself\u001b[0m\u001b[1;33m.\u001b[0m\u001b[0m_engine\u001b[0m\u001b[1;33m.\u001b[0m\u001b[0mget_loc\u001b[0m\u001b[1;33m(\u001b[0m\u001b[0mself\u001b[0m\u001b[1;33m.\u001b[0m\u001b[0m_maybe_cast_indexer\u001b[0m\u001b[1;33m(\u001b[0m\u001b[0mkey\u001b[0m\u001b[1;33m)\u001b[0m\u001b[1;33m)\u001b[0m\u001b[1;33m\u001b[0m\u001b[0m\n\u001b[0m\u001b[0;32m   2528\u001b[0m \u001b[1;33m\u001b[0m\u001b[0m\n\u001b[0;32m   2529\u001b[0m         \u001b[0mindexer\u001b[0m \u001b[1;33m=\u001b[0m \u001b[0mself\u001b[0m\u001b[1;33m.\u001b[0m\u001b[0mget_indexer\u001b[0m\u001b[1;33m(\u001b[0m\u001b[1;33m[\u001b[0m\u001b[0mkey\u001b[0m\u001b[1;33m]\u001b[0m\u001b[1;33m,\u001b[0m \u001b[0mmethod\u001b[0m\u001b[1;33m=\u001b[0m\u001b[0mmethod\u001b[0m\u001b[1;33m,\u001b[0m \u001b[0mtolerance\u001b[0m\u001b[1;33m=\u001b[0m\u001b[0mtolerance\u001b[0m\u001b[1;33m)\u001b[0m\u001b[1;33m\u001b[0m\u001b[0m\n",
      "\u001b[1;32mpandas/_libs/index.pyx\u001b[0m in \u001b[0;36mpandas._libs.index.IndexEngine.get_loc\u001b[1;34m()\u001b[0m\n",
      "\u001b[1;32mpandas/_libs/index.pyx\u001b[0m in \u001b[0;36mpandas._libs.index.IndexEngine.get_loc\u001b[1;34m()\u001b[0m\n",
      "\u001b[1;32mpandas/_libs/hashtable_class_helper.pxi\u001b[0m in \u001b[0;36mpandas._libs.hashtable.PyObjectHashTable.get_item\u001b[1;34m()\u001b[0m\n",
      "\u001b[1;32mpandas/_libs/hashtable_class_helper.pxi\u001b[0m in \u001b[0;36mpandas._libs.hashtable.PyObjectHashTable.get_item\u001b[1;34m()\u001b[0m\n",
      "\u001b[1;31mKeyError\u001b[0m: 'diptheria'"
     ]
    }
   ],
   "source": [
    "tomap['diptheria']"
   ]
  },
  {
   "cell_type": "code",
   "execution_count": 242,
   "metadata": {},
   "outputs": [
    {
     "data": {
      "text/plain": [
       "Index(['year', 'borough', 'wards', 'areainacres', 'populationbycensusof1900',\n",
       "       'numberofpersonstotheacre', 'typhoidfever', 'malarialfever', 'smallpox',\n",
       "       'measles', 'scarletfever', 'whoopingcough', 'diphteria',\n",
       "       'pulmonarytuberculosisphithisis', 'cerebrospinalmeningitis',\n",
       "       'pneumonia', 'bronchopneumonia', 'diarrhealdiseases', 'allcauses',\n",
       "       'deathsininstitution', 'deathsofchildrenunder5years', 'wardno',\n",
       "       'cartodb_id', 'descriptio', 'name', 'geometry', 'pop', 'typhpercap',\n",
       "       'malpercap', 'mengpercap', 'diarhea', 'diarrhea', 'diarpercap',\n",
       "       'measpercap', 'pnupercap', 'allpercap'],\n",
       "      dtype='object')"
      ]
     },
     "execution_count": 242,
     "metadata": {},
     "output_type": "execute_result"
    }
   ],
   "source": [
    "tomap.columns"
   ]
  },
  {
   "cell_type": "code",
   "execution_count": 256,
   "metadata": {},
   "outputs": [
    {
     "data": {
      "text/plain": [
       "5       39\n",
       "19       4\n",
       "33       1\n",
       "47      43\n",
       "61      13\n",
       "75      34\n",
       "89     112\n",
       "103     56\n",
       "117    111\n",
       "131     77\n",
       "145    143\n",
       "159    883\n",
       "173     69\n",
       "187     92\n",
       "201     31\n",
       "215     73\n",
       "229    243\n",
       "243    129\n",
       "257    653\n",
       "271    104\n",
       "285     97\n",
       "299    323\n",
       "313    258\n",
       "327    131\n",
       "341     78\n",
       "355     28\n",
       "369     24\n",
       "383     19\n",
       "397     62\n",
       "411     67\n",
       "      ... \n",
       "509     50\n",
       "523    110\n",
       "537     81\n",
       "551     80\n",
       "565    157\n",
       "579     80\n",
       "593     42\n",
       "607     52\n",
       "621     74\n",
       "635     88\n",
       "649     40\n",
       "663     59\n",
       "677     44\n",
       "691    192\n",
       "705     88\n",
       "719     92\n",
       "733     91\n",
       "747    106\n",
       "761     73\n",
       "775     19\n",
       "789    103\n",
       "803    131\n",
       "817     48\n",
       "831     75\n",
       "845     35\n",
       "859     29\n",
       "873     22\n",
       "887     35\n",
       "901     76\n",
       "915     12\n",
       "Name: diarrhealdiseases, Length: 66, dtype: object"
      ]
     },
     "execution_count": 256,
     "metadata": {},
     "output_type": "execute_result"
    }
   ],
   "source": [
    "tomap['diarrhealdiseases']"
   ]
  },
  {
   "cell_type": "code",
   "execution_count": null,
   "metadata": {},
   "outputs": [],
   "source": []
  },
  {
   "cell_type": "code",
   "execution_count": null,
   "metadata": {},
   "outputs": [],
   "source": []
  },
  {
   "cell_type": "code",
   "execution_count": null,
   "metadata": {},
   "outputs": [],
   "source": []
  },
  {
   "cell_type": "code",
   "execution_count": null,
   "metadata": {},
   "outputs": [],
   "source": []
  },
  {
   "cell_type": "code",
   "execution_count": null,
   "metadata": {},
   "outputs": [],
   "source": []
  },
  {
   "cell_type": "code",
   "execution_count": null,
   "metadata": {},
   "outputs": [],
   "source": []
  },
  {
   "cell_type": "code",
   "execution_count": null,
   "metadata": {},
   "outputs": [],
   "source": []
  },
  {
   "cell_type": "code",
   "execution_count": null,
   "metadata": {},
   "outputs": [],
   "source": []
  }
 ],
 "metadata": {
  "kernelspec": {
   "display_name": "Python 3",
   "language": "python",
   "name": "python3"
  },
  "language_info": {
   "codemirror_mode": {
    "name": "ipython",
    "version": 3
   },
   "file_extension": ".py",
   "mimetype": "text/x-python",
   "name": "python",
   "nbconvert_exporter": "python",
   "pygments_lexer": "ipython3",
   "version": "3.6.4"
  }
 },
 "nbformat": 4,
 "nbformat_minor": 2
}
